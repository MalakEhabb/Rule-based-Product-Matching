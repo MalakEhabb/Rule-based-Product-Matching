{
 "cells": [
  {
   "cell_type": "code",
   "execution_count": 10,
   "metadata": {
    "execution": {
     "iopub.execute_input": "2025-02-15T00:39:53.321290Z",
     "iopub.status.busy": "2025-02-15T00:39:53.320781Z",
     "iopub.status.idle": "2025-02-15T00:39:53.338317Z",
     "shell.execute_reply": "2025-02-15T00:39:53.337177Z",
     "shell.execute_reply.started": "2025-02-15T00:39:53.321259Z"
    }
   },
   "outputs": [],
   "source": [
    "import numpy as np\n",
    "import pandas as pd\n",
    "import re\n",
    "import time\n",
    "from sklearn.feature_extraction.text import TfidfVectorizer\n",
    "from sklearn.metrics.pairwise import cosine_similarity\n",
    "from fuzzywuzzy import fuzz\n",
    "from sklearn.preprocessing import MinMaxScaler\n",
    "\n",
    "def normalize_arabic(text):\n",
    "    if not isinstance(text, str):\n",
    "        return text\n",
    "    text = re.sub(r'[\\u064B-\\u065F]', '', text)  # Remove tashkeel\n",
    "    text = text.replace(\"أ\", \"ا\").replace(\"إ\", \"ا\").replace(\"آ\", \"ا\")  # Normalize أ\n",
    "    text = text.replace(\"ة\", \"ه\")  # Normalize ة\n",
    "    text = text.replace(\"ي\", \"ى\")  # Normalize ي \n",
    "    return text\n",
    "\n",
    "def clean_corpus(corpus, words_to_remove):\n",
    "    cleaned_corpus = []\n",
    "    for text in corpus:\n",
    "        if isinstance(text, str):\n",
    "            text = normalize_arabic(text)\n",
    "            for word in words_to_remove:\n",
    "                word = normalize_arabic(word)  # Normalize the word before processing\n",
    "                pattern = r'\\b' + re.sub(r'(.)\\1*', r'\\1+', re.escape(word)) + r'\\b'\n",
    "                text = re.sub(pattern, '', text, flags=re.IGNORECASE | re.UNICODE)  # Remove word\n",
    "            text = re.sub(r'\\s+', ' ', text).strip()   # Remove extra spaces\n",
    "        cleaned_corpus.append(text)\n",
    "    return cleaned_corpus\n",
    "\n",
    "def price_similarity(dataset_price, master_price, tolerance=0.05):  # 5% of master price\n",
    "    if master_price == 0:\n",
    "        return 0\n",
    "    price_diff = abs(dataset_price - master_price)\n",
    "    allowed_range = tolerance * master_price\n",
    "    return 1 if price_diff <= allowed_range else max(0, 1 - (price_diff / master_price))   # Gradual decrease\n",
    "\n",
    "\n",
    "def match_products(masterfile, dataset):\n",
    "    start_time = time.time()\n",
    "    words_to_remove = ['شريط', 'جديد', 'قديم', 'سعر', 'سانوفي', 'افنتس', 'ابيكو', 'ج', 'س', \n",
    "                       'العامرية', 'كبير', 'صغير', 'هام', 'مهم', 'احذر', 'يوتوبيا', 'دوا', \n",
    "                       'ادويا', 'لا يرتجع', 'يرتجع', 'عادي', 'ميباكو']\n",
    "    \n",
    "    combined_corpus = masterfile['product_name'].tolist() + masterfile['product_name_ar'].tolist() + dataset['seller_item_name'].tolist()\n",
    "    cleaned_corpus = clean_corpus(combined_corpus, words_to_remove)\n",
    "\n",
    "    # Initialize TF-IDF Vectorizer and fit on combined corpus\n",
    "    vectorizer = TfidfVectorizer(analyzer='char', ngram_range=(2, 3), max_features=6000)\n",
    "    tfidf_matrix = vectorizer.fit_transform(cleaned_corpus)\n",
    "    \n",
    "    # Split the TF-IDF matrix back into dataset and masterfile matrices\n",
    "    tfidf_master_en = tfidf_matrix[:len(masterfile['product_name']), :]\n",
    "    tfidf_master_ar = tfidf_matrix[len(masterfile['product_name']):len(masterfile['product_name']) + len(masterfile['product_name_ar']), :]\n",
    "    tfidf_dataset = tfidf_matrix[len(masterfile['product_name']) + len(masterfile['product_name_ar']):, :]\n",
    "    \n",
    "    #  Cosine Similarity Calculation\n",
    "    cosine_sim_en = cosine_similarity(tfidf_dataset, tfidf_master_en)   # Cosine similarity for English\n",
    "    cosine_sim_ar = cosine_similarity(tfidf_dataset, tfidf_master_ar)   # Cosine similarity for Arabic\n",
    "    \n",
    "    # Normalize prices\n",
    "    scaler = MinMaxScaler()\n",
    "    masterfile[['norm_price']] = scaler.fit_transform(masterfile[['price']])\n",
    "    dataset[['norm_price']] = scaler.transform(dataset[['price']])\n",
    "    \n",
    "    # Define Optimized Weights\n",
    "    weights = {'cosine': 0.32, 'fuzzy': 0.31, 'price': 0.37}\n",
    "    best_matches = []\n",
    "    time_per_product = []\n",
    "    \n",
    "    for i in range(len(dataset)):\n",
    "        # Best match from English column\n",
    "        best_idx_en = cosine_sim_en[i].argmax()\n",
    "        best_score_en = cosine_sim_en[i, best_idx_en]\n",
    "        best_product_en = masterfile['product_name'].iloc[best_idx_en]\n",
    "\n",
    "        # Best match from Arabic column\n",
    "        best_idx_ar = cosine_sim_ar[i].argmax()\n",
    "        best_score_ar = cosine_sim_ar[i, best_idx_ar]\n",
    "        best_product_ar = masterfile['product_name_ar'].iloc[best_idx_ar]\n",
    "\n",
    "         # Choose the best match\n",
    "        if best_score_en > best_score_ar:\n",
    "            best_product, best_score, best_idx = best_product_en, best_score_en, best_idx_en\n",
    "        else:\n",
    "            best_product, best_score, best_idx = best_product_ar, best_score_ar, best_idx_ar\n",
    "\n",
    "        # Compute Fuzzy Matching \n",
    "        fuzzy_score_en = fuzz.ratio(dataset['seller_item_name'].iloc[i], best_product_en) / 100\n",
    "        fuzzy_score_ar = fuzz.ratio(dataset['seller_item_name'].iloc[i], best_product_ar) / 100\n",
    "        fuzzy_score = max(fuzzy_score_en, fuzzy_score_ar)\n",
    "\n",
    "        # Compute Price Similarity\n",
    "        price_sim = price_similarity(dataset['norm_price'].iloc[i], masterfile['norm_price'].iloc[best_idx])\n",
    "\n",
    "        #  Compute Final Score using Adapted Weights\n",
    "        final_score = (weights['cosine'] * best_score) + (weights['fuzzy'] * fuzzy_score) + (weights['price'] * price_sim)\n",
    "\n",
    "        # Assign SKU from master file\n",
    "        best_sku = masterfile['sku'].iloc[best_idx]\n",
    "\n",
    "        # Append results\n",
    "        best_matches.append((dataset['seller_item_name'].iloc[i], best_product, best_sku, final_score))\n",
    "        \n",
    "    \n",
    "    matches_df = dataset.copy()\n",
    "    matches_df['Matched SKU'] = [match[2] for match in best_matches]\n",
    "    matches_df['Score'] = [match[3] for match in best_matches]\n",
    "    matches_df['Score'] = (matches_df['Score'] * 100).round(2).astype(str) + '%'\n",
    "    matches_df = matches_df.drop(columns=['norm_price'])\n",
    "    return matches_df\n"
   ]
  },
  {
   "cell_type": "markdown",
   "metadata": {},
   "source": [
    "# **Example Usage**"
   ]
  },
  {
   "cell_type": "code",
   "execution_count": 11,
   "metadata": {
    "execution": {
     "iopub.execute_input": "2025-02-15T00:39:54.599622Z",
     "iopub.status.busy": "2025-02-15T00:39:54.599245Z",
     "iopub.status.idle": "2025-02-15T00:41:06.934993Z",
     "shell.execute_reply": "2025-02-15T00:41:06.933999Z",
     "shell.execute_reply.started": "2025-02-15T00:39:54.599597Z"
    }
   },
   "outputs": [
    {
     "name": "stdout",
     "output_type": "stream",
     "text": [
      "✅ Matching Completed and Saved!\n"
     ]
    }
   ],
   "source": [
    "# Upload data and Apply Matching \n",
    "masterfile = pd.read_excel(\"/kaggle/input/isupply-task/Product Matching Dataset.xlsx\", sheet_name=\"Master File\")\n",
    "dataset = pd.read_excel(\"/kaggle/input/isupply-task/Product Matching Dataset.xlsx\", sheet_name=\"Dataset\")\n",
    "start_time = time.time()\n",
    "matched_results = match_products(masterfile, dataset)\n",
    "end_time = time.time()\n",
    "matched_results.to_excel(\"Matched Dataset.xlsx\", index=False)\n",
    "\n",
    "print(\"✅ Matching Completed and Saved!\")\n"
   ]
  },
  {
   "cell_type": "markdown",
   "metadata": {},
   "source": [
    "# **Evaluation** "
   ]
  },
  {
   "cell_type": "code",
   "execution_count": 12,
   "metadata": {
    "execution": {
     "iopub.execute_input": "2025-02-15T00:41:06.936427Z",
     "iopub.status.busy": "2025-02-15T00:41:06.936153Z",
     "iopub.status.idle": "2025-02-15T00:41:17.502869Z",
     "shell.execute_reply": "2025-02-15T00:41:17.501879Z",
     "shell.execute_reply.started": "2025-02-15T00:41:06.936396Z"
    }
   },
   "outputs": [
    {
     "name": "stdout",
     "output_type": "stream",
     "text": [
      "✅ Model Accuracy: 92.30%\n"
     ]
    }
   ],
   "source": [
    "file_path = \"/kaggle/working/Matched Dataset.xlsx\"  # Update if needed\n",
    "matches_df = pd.read_excel(file_path)\n",
    "\n",
    "if 'sku' in matches_df.columns and 'Matched SKU' in matches_df.columns:\n",
    "    matches_df['Correct Match'] = (matches_df['sku'] == matches_df['Matched SKU']).astype(int)\n",
    "    \n",
    "    accuracy = (matches_df['Correct Match'].mean()) * 100\n",
    "    \n",
    "    print(f\"✅ Model Accuracy: {accuracy:.2f}%\")\n",
    "else:\n",
    "    print(\"⚠️ Columns 'sku' and 'Matched SKU' not found in the dataset!\")\n"
   ]
  },
  {
   "cell_type": "code",
   "execution_count": 13,
   "metadata": {
    "execution": {
     "iopub.execute_input": "2025-02-15T00:41:17.504949Z",
     "iopub.status.busy": "2025-02-15T00:41:17.504395Z",
     "iopub.status.idle": "2025-02-15T00:41:17.509630Z",
     "shell.execute_reply": "2025-02-15T00:41:17.508590Z",
     "shell.execute_reply.started": "2025-02-15T00:41:17.504922Z"
    }
   },
   "outputs": [
    {
     "name": "stdout",
     "output_type": "stream",
     "text": [
      "⏳ Average Processing Time per Product: 0.0057 seconds\n"
     ]
    }
   ],
   "source": [
    "total_time = end_time - start_time\n",
    "average_time_per_product = total_time / len(dataset) if len(dataset) > 0 else 0\n",
    "\n",
    "print(f\"⏳ Average Processing Time per Product: {average_time_per_product:.4f} seconds\")"
   ]
  },
  {
   "cell_type": "markdown",
   "metadata": {},
   "source": [
    "# **Visualization**"
   ]
  },
  {
   "cell_type": "code",
   "execution_count": 14,
   "metadata": {
    "execution": {
     "iopub.execute_input": "2025-02-15T00:41:23.288077Z",
     "iopub.status.busy": "2025-02-15T00:41:23.287665Z",
     "iopub.status.idle": "2025-02-15T00:41:23.365755Z",
     "shell.execute_reply": "2025-02-15T00:41:23.364540Z",
     "shell.execute_reply.started": "2025-02-15T00:41:23.288051Z"
    }
   },
   "outputs": [],
   "source": [
    "import matplotlib.pyplot as plt\n",
    "import seaborn as sns\n",
    "\n",
    "threshold = 80\n",
    "\n",
    "incorrect_matches_above = matches_df[(matches_df['Score'].str.rstrip('%').astype(float) > threshold) & (matches_df['Correct Match'] == 0)]\n",
    "incorrect_matches_below = matches_df[(matches_df['Score'].str.rstrip('%').astype(float) <= threshold) & (matches_df['Correct Match'] == 0)]\n",
    "\n",
    "counts = [len(incorrect_matches_below), len(incorrect_matches_above)]"
   ]
  },
  {
   "cell_type": "code",
   "execution_count": 15,
   "metadata": {
    "execution": {
     "iopub.execute_input": "2025-02-15T00:41:25.072264Z",
     "iopub.status.busy": "2025-02-15T00:41:25.071821Z",
     "iopub.status.idle": "2025-02-15T00:41:25.272137Z",
     "shell.execute_reply": "2025-02-15T00:41:25.270712Z",
     "shell.execute_reply.started": "2025-02-15T00:41:25.072234Z"
    }
   },
   "outputs": [
    {
     "name": "stderr",
     "output_type": "stream",
     "text": [
      "/usr/local/lib/python3.10/dist-packages/seaborn/_oldcore.py:1765: FutureWarning: unique with argument that is not not a Series, Index, ExtensionArray, or np.ndarray is deprecated and will raise in a future version.\n",
      "  order = pd.unique(vector)\n"
     ]
    },
    {
     "data": {
      "image/png": "[encoded data removed]",
      "text/plain": [
       "<Figure size 600x400 with 1 Axes>"
      ]
     },
     "metadata": {},
     "output_type": "display_data"
    }
   ],
   "source": [
    "plt.figure(figsize=(6, 4))\n",
    "sns.barplot(x=['Below Threshold', 'Above Threshold'], y=counts, palette=['red', 'orange'])\n",
    "plt.xlabel(\"Match Confidence\")\n",
    "plt.ylabel(\"Number of Incorrect Matches\")\n",
    "plt.title(\"Incorrect Matches Above and Below Threshold\")\n",
    "plt.show()"
   ]
  },
  {
   "cell_type": "code",
   "execution_count": 16,
   "metadata": {
    "execution": {
     "iopub.execute_input": "2025-02-15T00:41:25.274338Z",
     "iopub.status.busy": "2025-02-15T00:41:25.273957Z",
     "iopub.status.idle": "2025-02-15T00:41:25.383314Z",
     "shell.execute_reply": "2025-02-15T00:41:25.382039Z",
     "shell.execute_reply.started": "2025-02-15T00:41:25.274312Z"
    }
   },
   "outputs": [
    {
     "data": {
      "image/png": "[encoded data removed]",
      "text/plain": [
       "<Figure size 600x600 with 1 Axes>"
      ]
     },
     "metadata": {},
     "output_type": "display_data"
    }
   ],
   "source": [
    "plt.figure(figsize=(6, 6))\n",
    "plt.pie(counts, labels=['Below Threshold', 'Above Threshold'], autopct='%1.1f%%', colors=['red', 'orange'], startangle=90)\n",
    "plt.title(\"Percentage of Incorrect Matches Below and Above Threshold\")\n",
    "plt.show()"
   ]
  },
  {
   "cell_type": "code",
   "execution_count": null,
   "metadata": {},
   "outputs": [],
   "source": []
  },
  {
   "cell_type": "code",
   "execution_count": null,
   "metadata": {},
   "outputs": [],
   "source": []
  }
 ],
 "metadata": {
  "kaggle": {
   "accelerator": "none",
   "dataSources": [
    {
     "datasetId": 6602329,
     "sourceId": 10661221,
     "sourceType": "datasetVersion"
    },
    {
     "isSourceIdPinned": true,
     "modelId": 239965,
     "modelInstanceId": 218238,
     "sourceId": 255243,
     "sourceType": "modelInstanceVersion"
    }
   ],
   "dockerImageVersionId": 30840,
   "isGpuEnabled": false,
   "isInternetEnabled": true,
   "language": "python",
   "sourceType": "notebook"
  },
  "kernelspec": {
   "display_name": "Python 3 (ipykernel)",
   "language": "python",
   "name": "python3"
  },
  "language_info": {
   "codemirror_mode": {
    "name": "ipython",
    "version": 3
   },
   "file_extension": ".py",
   "mimetype": "text/x-python",
   "name": "python",
   "nbconvert_exporter": "python",
   "pygments_lexer": "ipython3",
   "version": "3.11.7"
  }
 },
 "nbformat": 4,
 "nbformat_minor": 4
}
